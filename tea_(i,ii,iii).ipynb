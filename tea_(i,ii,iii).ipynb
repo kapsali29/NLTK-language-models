{
 "cells": [
  {
   "cell_type": "code",
   "execution_count": 1,
   "metadata": {
    "collapsed": true
   },
   "outputs": [],
   "source": [
    "import glob"
   ]
  },
  {
   "cell_type": "code",
   "execution_count": 2,
   "metadata": {
    "collapsed": false
   },
   "outputs": [],
   "source": [
    "list_of_txts=glob.glob(\"C:/anaconda/ep/ep*.txt\")"
   ]
  },
  {
   "cell_type": "code",
   "execution_count": 3,
   "metadata": {
    "collapsed": true
   },
   "outputs": [],
   "source": [
    "import random"
   ]
  },
  {
   "cell_type": "code",
   "execution_count": 4,
   "metadata": {
    "collapsed": true
   },
   "outputs": [],
   "source": [
    "random.seed(1)\n",
    "s=random.sample(range(0,len(list_of_txts)), round(0.8*(len(list_of_txts))))"
   ]
  },
  {
   "cell_type": "code",
   "execution_count": 5,
   "metadata": {
    "collapsed": true
   },
   "outputs": [],
   "source": [
    "train_txts= [list_of_txts[i] for i in s]"
   ]
  },
  {
   "cell_type": "code",
   "execution_count": 6,
   "metadata": {
    "collapsed": true
   },
   "outputs": [],
   "source": [
    " t=list(set(range(0,len(list_of_txts))) - set(s))"
   ]
  },
  {
   "cell_type": "code",
   "execution_count": 7,
   "metadata": {
    "collapsed": true
   },
   "outputs": [],
   "source": [
    "test_txts= [list_of_txts[i] for i in t]"
   ]
  },
  {
   "cell_type": "code",
   "execution_count": 8,
   "metadata": {
    "collapsed": false
   },
   "outputs": [],
   "source": [
    "content=[]\n",
    "for file in train_txts:\n",
    "    fp=open(file, encoding=\"utf8\")\n",
    "    try:\n",
    "        for line in fp:\n",
    "             content.append(line)\n",
    "    finally:\n",
    "        fp.close()\n"
   ]
  },
  {
   "cell_type": "code",
   "execution_count": 9,
   "metadata": {
    "collapsed": true
   },
   "outputs": [],
   "source": [
    "import re\n",
    "\n",
    "def cleanhtml(raw_html):\n",
    "    cleanr = re.compile('<.*?>')\n",
    "    cleantext = re.sub(cleanr, '', raw_html)\n",
    "    return cleantext"
   ]
  },
  {
   "cell_type": "code",
   "execution_count": 10,
   "metadata": {
    "collapsed": false
   },
   "outputs": [],
   "source": [
    "no_html_content=[]\n",
    "for s in content:\n",
    "     no_html_content.append(cleanhtml(s))\n"
   ]
  },
  {
   "cell_type": "code",
   "execution_count": 11,
   "metadata": {
    "collapsed": true
   },
   "outputs": [],
   "source": [
    "content=[]\n",
    "for s in no_html_content:\n",
    "    if s!='\\n':\n",
    "        content.append(s)"
   ]
  },
  {
   "cell_type": "code",
   "execution_count": 12,
   "metadata": {
    "collapsed": true
   },
   "outputs": [],
   "source": [
    "del no_html_content"
   ]
  },
  {
   "cell_type": "code",
   "execution_count": 13,
   "metadata": {
    "collapsed": true
   },
   "outputs": [],
   "source": [
    "content=[s.strip('\\n') for s in content]"
   ]
  },
  {
   "cell_type": "code",
   "execution_count": 14,
   "metadata": {
    "collapsed": true
   },
   "outputs": [],
   "source": [
    "from nltk.tokenize import RegexpTokenizer\n",
    "tokenizer = RegexpTokenizer(r'\\w+')"
   ]
  },
  {
   "cell_type": "code",
   "execution_count": 15,
   "metadata": {
    "collapsed": true
   },
   "outputs": [],
   "source": [
    "unigrams=[]\n",
    "for s in content:\n",
    "    unigrams+=tokenizer.tokenize(s)"
   ]
  },
  {
   "cell_type": "code",
   "execution_count": 16,
   "metadata": {
    "collapsed": true
   },
   "outputs": [],
   "source": [
    "del content"
   ]
  },
  {
   "cell_type": "code",
   "execution_count": 17,
   "metadata": {
    "collapsed": false
   },
   "outputs": [],
   "source": [
    "unigrams=[x for x in map(str.lower,unigrams)]"
   ]
  },
  {
   "cell_type": "code",
   "execution_count": 18,
   "metadata": {
    "collapsed": false
   },
   "outputs": [
    {
     "data": {
      "text/plain": [
       "Counter({'council': 92126,\n",
       "         'question': 37196,\n",
       "         'time': 65400,\n",
       "         'the': 3382013,\n",
       "         'next': 20698,\n",
       "         'item': 7326,\n",
       "         'is': 741117,\n",
       "         'b6': 361,\n",
       "         '0316': 23,\n",
       "         '2007': 5266,\n",
       "         'following': 13204,\n",
       "         'questions': 11416,\n",
       "         'are': 328584,\n",
       "         'addressed': 3585,\n",
       "         'to': 1487107,\n",
       "         'no': 75037,\n",
       "         '1': 14846,\n",
       "         'inadmissible': 284,\n",
       "         'annex': 1435,\n",
       "         'ii': 2711,\n",
       "         'part': 33169,\n",
       "         'a': 748142,\n",
       "         'paragraph': 5315,\n",
       "         '2': 10216,\n",
       "         'of': 1603555,\n",
       "         'rules': 23682,\n",
       "         'procedure': 16108,\n",
       "         'subject': 18154,\n",
       "         'prospects': 1854,\n",
       "         'for': 514893,\n",
       "         'galileo': 1042,\n",
       "         'project': 8428,\n",
       "         'an': 151549,\n",
       "         'extremely': 11284,\n",
       "         'important': 66681,\n",
       "         'european': 264002,\n",
       "         'union': 117707,\n",
       "         'as': 315759,\n",
       "         'it': 417046,\n",
       "         'result': 17152,\n",
       "         'space': 2585,\n",
       "         'related': 4965,\n",
       "         'research': 16068,\n",
       "         'and': 1270221,\n",
       "         'cooperation': 31352,\n",
       "         'between': 52095,\n",
       "         'member': 103149,\n",
       "         'states': 105791,\n",
       "         'can': 104680,\n",
       "         'be': 393979,\n",
       "         'applied': 5948,\n",
       "         'numerous': 2820,\n",
       "         'areas': 22402,\n",
       "         'including': 16326,\n",
       "         'that': 802448,\n",
       "         'transport': 17601,\n",
       "         'given': 24986,\n",
       "         'current': 16582,\n",
       "         'deadlock': 421,\n",
       "         'in': 1056283,\n",
       "         'financing': 5152,\n",
       "         'this': 475379,\n",
       "         'i': 485486,\n",
       "         'should': 139438,\n",
       "         'like': 90114,\n",
       "         'ask': 17600,\n",
       "         'what': 88854,\n",
       "         'measures': 34588,\n",
       "         'intends': 2277,\n",
       "         'take': 53072,\n",
       "         'resolve': 3536,\n",
       "         'situation': 35163,\n",
       "         'kind': 9431,\n",
       "         'with': 287439,\n",
       "         'third': 15595,\n",
       "         'countries': 76753,\n",
       "         'such': 57211,\n",
       "         'india': 2694,\n",
       "         'does': 35687,\n",
       "         'have': 312441,\n",
       "         'mind': 7432,\n",
       "         'president': 134885,\n",
       "         'office': 13122,\n",
       "         'pt': 2542,\n",
       "         'honourable': 5717,\n",
       "         'knows': 2504,\n",
       "         'during': 17431,\n",
       "         'its': 97634,\n",
       "         'meeting': 10504,\n",
       "         'from': 135717,\n",
       "         '6': 5311,\n",
       "         '8': 4652,\n",
       "         'june': 5459,\n",
       "         'analysed': 454,\n",
       "         'depth': 1618,\n",
       "         'adopted': 19538,\n",
       "         'resolution': 23506,\n",
       "         'invited': 1079,\n",
       "         'commission': 156556,\n",
       "         'submit': 2082,\n",
       "         'proposals': 20313,\n",
       "         'on': 455829,\n",
       "         'various': 13461,\n",
       "         'aspects': 8453,\n",
       "         'has': 203179,\n",
       "         'since': 24802,\n",
       "         'then': 28074,\n",
       "         'these': 96062,\n",
       "         '19': 2105,\n",
       "         'november': 3893,\n",
       "         'we': 507696,\n",
       "         'now': 60147,\n",
       "         'hope': 27914,\n",
       "         'competent': 1879,\n",
       "         'bodies': 4680,\n",
       "         'will': 232825,\n",
       "         'analyse': 876,\n",
       "         'view': 28252,\n",
       "         'taking': 14317,\n",
       "         'integrated': 3988,\n",
       "         'decision': 22536,\n",
       "         'implementation': 13882,\n",
       "         'public': 35492,\n",
       "         'funding': 9338,\n",
       "         'modalities': 145,\n",
       "         'participation': 5169,\n",
       "         'before': 24705,\n",
       "         'end': 22926,\n",
       "         'year': 33119,\n",
       "         'regards': 9385,\n",
       "         'recalled': 325,\n",
       "         'attributes': 102,\n",
       "         'greatest': 3241,\n",
       "         'importance': 15980,\n",
       "         'do': 91367,\n",
       "         'not': 298078,\n",
       "         'belong': 1372,\n",
       "         '2001': 6524,\n",
       "         'you': 114555,\n",
       "         'know': 29760,\n",
       "         'agreements': 12336,\n",
       "         'relation': 8228,\n",
       "         'been': 117394,\n",
       "         'signed': 3548,\n",
       "         'non': 10912,\n",
       "         'eu': 82044,\n",
       "         'china': 7619,\n",
       "         'israel': 5175,\n",
       "         'ukraine': 3910,\n",
       "         'making': 18203,\n",
       "         'contributions': 2864,\n",
       "         'programme': 23892,\n",
       "         'terms': 20304,\n",
       "         'system': 28806,\n",
       "         'definition': 3566,\n",
       "         'industrial': 5423,\n",
       "         'specific': 15937,\n",
       "         'case': 27654,\n",
       "         'agreement': 36666,\n",
       "         'was': 99271,\n",
       "         'by': 232948,\n",
       "         'indian': 624,\n",
       "         'negotiators': 379,\n",
       "         'new': 65806,\n",
       "         'delhi': 103,\n",
       "         '7': 4910,\n",
       "         'september': 4148,\n",
       "         '2005': 4649,\n",
       "         'however': 53082,\n",
       "         'decided': 6604,\n",
       "         'continue': 18308,\n",
       "         'consultations': 1026,\n",
       "         'authorities': 15912,\n",
       "         'order': 34993,\n",
       "         'bring': 11254,\n",
       "         'into': 51890,\n",
       "         'line': 9138,\n",
       "         'standard': 3040,\n",
       "         'ec': 3767,\n",
       "         'account': 14885,\n",
       "         'latest': 2306,\n",
       "         'developments': 4536,\n",
       "         'applicable': 1676,\n",
       "         'must': 127909,\n",
       "         'wait': 2070,\n",
       "         'proposal': 40445,\n",
       "         'issue': 35772,\n",
       "         'better': 19237,\n",
       "         'define': 2138,\n",
       "         'position': 22351,\n",
       "         '22': 1926,\n",
       "         'march': 4357,\n",
       "         'authorising': 278,\n",
       "         'negotiate': 1446,\n",
       "         'signing': 1196,\n",
       "         'their': 92390,\n",
       "         'associated': 2614,\n",
       "         'membership': 3720,\n",
       "         'gnss': 131,\n",
       "         'global': 12096,\n",
       "         'navigation': 614,\n",
       "         'satellite': 939,\n",
       "         'supervisory': 1550,\n",
       "         'authority': 6276,\n",
       "         'gsa': 7,\n",
       "         'main': 11156,\n",
       "         'objective': 11979,\n",
       "         'provide': 15651,\n",
       "         'harmonised': 1325,\n",
       "         'approach': 16833,\n",
       "         'concerning': 11050,\n",
       "         'all': 145755,\n",
       "         'clearly': 16300,\n",
       "         'defining': 1248,\n",
       "         'within': 31621,\n",
       "         'ro': 1538,\n",
       "         'mr': 171244,\n",
       "         'would': 147878,\n",
       "         'thank': 27375,\n",
       "         'secretary': 1876,\n",
       "         'state': 33287,\n",
       "         'information': 26566,\n",
       "         'provided': 8978,\n",
       "         'come': 19381,\n",
       "         'back': 12845,\n",
       "         'first': 45360,\n",
       "         'my': 73204,\n",
       "         'namely': 7148,\n",
       "         'tell': 6286,\n",
       "         'us': 74840,\n",
       "         'more': 99894,\n",
       "         'about': 71163,\n",
       "         'actual': 3258,\n",
       "         'manner': 4378,\n",
       "         'way': 43828,\n",
       "         'which': 271613,\n",
       "         's': 150061,\n",
       "         'examined': 1609,\n",
       "         'period': 10697,\n",
       "         'cannot': 34106,\n",
       "         'predict': 320,\n",
       "         'issues': 23054,\n",
       "         'table': 3391,\n",
       "         'particular': 29514,\n",
       "         'regard': 22354,\n",
       "         'course': 28091,\n",
       "         'discussed': 5829,\n",
       "         'together': 16382,\n",
       "         'other': 71331,\n",
       "         'set': 20953,\n",
       "         'out': 55925,\n",
       "         'most': 33487,\n",
       "         'recent': 12034,\n",
       "         'assure': 2508,\n",
       "         'two': 35667,\n",
       "         'things': 13947,\n",
       "         'presidency': 23298,\n",
       "         'understands': 515,\n",
       "         'strategic': 5010,\n",
       "         'therefore': 55247,\n",
       "         'deal': 13816,\n",
       "         'light': 5998,\n",
       "         'words': 12916,\n",
       "         'interest': 12128,\n",
       "         'second': 16558,\n",
       "         'everything': 7707,\n",
       "         'possible': 33789,\n",
       "         'reach': 6613,\n",
       "         'conclusion': 6495,\n",
       "         'portuguese': 2504,\n",
       "         'es': 1697,\n",
       "         'agree': 18876,\n",
       "         'urgent': 4866,\n",
       "         'priority': 9427,\n",
       "         'but': 139185,\n",
       "         'farmers': 7317,\n",
       "         'concerned': 17511,\n",
       "         'because': 63577,\n",
       "         'up': 60483,\n",
       "         'idea': 9085,\n",
       "         'using': 6721,\n",
       "         'surplus': 755,\n",
       "         'cap': 2464,\n",
       "         'funds': 15265,\n",
       "         'finance': 3797,\n",
       "         'did': 15892,\n",
       "         'apparently': 1114,\n",
       "         'produce': 4679,\n",
       "         'they': 94659,\n",
       "         'worried': 875,\n",
       "         'future': 35332,\n",
       "         'governments': 9515,\n",
       "         '27': 3178,\n",
       "         'ought': 3486,\n",
       "         'either': 7182,\n",
       "         'means': 25298,\n",
       "         'extraordinary': 1499,\n",
       "         'or': 96424,\n",
       "         'left': 7567,\n",
       "         'over': 29970,\n",
       "         'every': 16743,\n",
       "         'community': 35858,\n",
       "         'budget': 25144,\n",
       "         'believe': 43039,\n",
       "         'already': 31425,\n",
       "         'answered': 1039,\n",
       "         'previous': 6489,\n",
       "         'answer': 7780,\n",
       "         'still': 30162,\n",
       "         'discuss': 5526,\n",
       "         'yet': 15540,\n",
       "         'made': 45607,\n",
       "         'matter': 21546,\n",
       "         'expected': 2988,\n",
       "         'differing': 613,\n",
       "         'points': 12978,\n",
       "         'well': 38060,\n",
       "         'consider': 12516,\n",
       "         'there': 119066,\n",
       "         'fact': 40038,\n",
       "         'consensus': 4127,\n",
       "         'among': 9818,\n",
       "         'nature': 7107,\n",
       "         'constitutional': 4913,\n",
       "         'reform': 12878,\n",
       "         'bosnia': 1893,\n",
       "         'herzegovina': 1016,\n",
       "         'opinion': 17968,\n",
       "         'reforms': 6081,\n",
       "         'dayton': 273,\n",
       "         'action': 28030,\n",
       "         'planning': 2992,\n",
       "         'further': 21063,\n",
       "         'renewal': 719,\n",
       "         'integration': 8534,\n",
       "         'country': 36117,\n",
       "         'ladies': 24865,\n",
       "         'gentlemen': 25017,\n",
       "         'assess': 2093,\n",
       "         'process': 26825,\n",
       "         'annual': 5136,\n",
       "         'report': 98571,\n",
       "         'progress': 18668,\n",
       "         'scheduled': 864,\n",
       "         'usual': 1237,\n",
       "         'reiterated': 453,\n",
       "         'occasions': 2553,\n",
       "         'rapid': 3012,\n",
       "         'four': 6947,\n",
       "         'essential': 14106,\n",
       "         'conditions': 16348,\n",
       "         'negotiations': 15133,\n",
       "         'stabilisation': 1143,\n",
       "         'association': 3727,\n",
       "         'conclusions': 5329,\n",
       "         '12': 6163,\n",
       "         'december': 6056,\n",
       "         'police': 4987,\n",
       "         'political': 46480,\n",
       "         'remained': 891,\n",
       "         'tense': 181,\n",
       "         'months': 10143,\n",
       "         'due': 9103,\n",
       "         'radicalisation': 144,\n",
       "         'positions': 3614,\n",
       "         'assumed': 597,\n",
       "         'bosnian': 160,\n",
       "         'leaders': 3671,\n",
       "         'at': 161620,\n",
       "         'moment': 8332,\n",
       "         'seems': 7845,\n",
       "         'if': 85388,\n",
       "         'difficult': 13905,\n",
       "         'agenda': 10632,\n",
       "         'particularly': 23691,\n",
       "         'restructuring': 2052,\n",
       "         'force': 11464,\n",
       "         'high': 17569,\n",
       "         'representative': 4776,\n",
       "         'solana': 1114,\n",
       "         'met': 3857,\n",
       "         'miroslav': 21,\n",
       "         'lajčák': 14,\n",
       "         'special': 9787,\n",
       "         '10': 7345,\n",
       "         'took': 5978,\n",
       "         'place': 26201,\n",
       "         'brussels': 4875,\n",
       "         'expressed': 6548,\n",
       "         'his': 27640,\n",
       "         'full': 12353,\n",
       "         'support': 55500,\n",
       "         'work': 50567,\n",
       "         'efforts': 13637,\n",
       "         'find': 15086,\n",
       "         'compromise': 9420,\n",
       "         'general': 19853,\n",
       "         'urged': 719,\n",
       "         'engage': 1593,\n",
       "         'constructively': 370,\n",
       "         'initiative': 12126,\n",
       "         'presented': 6982,\n",
       "         'so': 84249,\n",
       "         'remove': 1830,\n",
       "         'last': 27218,\n",
       "         'obstacle': 896,\n",
       "         'preventing': 2412,\n",
       "         'concluding': 772,\n",
       "         'he': 27934,\n",
       "         'also': 146206,\n",
       "         'called': 10980,\n",
       "         'act': 10002,\n",
       "         'responsibly': 417,\n",
       "         'finally': 16435,\n",
       "         'deliver': 1929,\n",
       "         'people': 70401,\n",
       "         'too': 30903,\n",
       "         'creating': 6041,\n",
       "         'functional': 392,\n",
       "         'structures': 3114,\n",
       "         'capable': 2723,\n",
       "         'reaching': 2655,\n",
       "         'standards': 11775,\n",
       "         'effort': 6491,\n",
       "         'needed': 10058,\n",
       "         'improving': 5453,\n",
       "         'efficiency': 5479,\n",
       "         'executive': 1506,\n",
       "         'legislative': 9238,\n",
       "         'reinforce': 1370,\n",
       "         'capacity': 5692,\n",
       "         'administration': 4110,\n",
       "         'coordination': 6095,\n",
       "         'instrument': 6990,\n",
       "         'pre': 2192,\n",
       "         'accession': 8918,\n",
       "         'assistance': 8279,\n",
       "         'reserved': 472,\n",
       "         'eur': 12084,\n",
       "         'million': 15845,\n",
       "         'february': 2339,\n",
       "         'joint': 10942,\n",
       "         'amending': 2487,\n",
       "         'extending': 1844,\n",
       "         'mandate': 3618,\n",
       "         'under': 30083,\n",
       "         'amended': 2031,\n",
       "         'advice': 1740,\n",
       "         'offer': 5677,\n",
       "         'services': 21229,\n",
       "         'de': 11524,\n",
       "         'only': 67472,\n",
       "         'transformed': 323,\n",
       "         'federation': 1064,\n",
       "         'comprising': 292,\n",
       "         'three': 18003,\n",
       "         'nations': 8654,\n",
       "         'equal': 7665,\n",
       "         'basis': 20247,\n",
       "         'include': 8618,\n",
       "         'herzegovinian': 2,\n",
       "         'central': 10135,\n",
       "         'croats': 75,\n",
       "         'quite': 15348,\n",
       "         'done': 19505,\n",
       "         'when': 54810,\n",
       "         'entity': 512,\n",
       "         'republika': 87,\n",
       "         'srpska': 104,\n",
       "         'blocks': 462,\n",
       "         'refugee': 1236,\n",
       "         'return': 5024,\n",
       "         'brings': 2150,\n",
       "         'external': 9002,\n",
       "         'pressure': 6535,\n",
       "         'bear': 3833,\n",
       "         'whole': 17126,\n",
       "         'speak': 7867,\n",
       "         'individual': 9373,\n",
       "         'entities': 560,\n",
       "         'exert': 750,\n",
       "         'them': 46048,\n",
       "         'via': 2626,\n",
       "         'becomes': 1967,\n",
       "         'very': 86644,\n",
       "         'say': 41245,\n",
       "         'respect': 22465,\n",
       "         'through': 25590,\n",
       "         'diplomatic': 1853,\n",
       "         'instruments': 7207,\n",
       "         'available': 10691,\n",
       "         'actions': 8360,\n",
       "         'ensure': 27547,\n",
       "         'successfully': 1765,\n",
       "         'overcome': 2531,\n",
       "         'obstacles': 2410,\n",
       "         'encountered': 476,\n",
       "         'removed': 1622,\n",
       "         'our': 136497,\n",
       "         'commitment': 9202,\n",
       "         'suggestions': 1484,\n",
       "         'may': 30228,\n",
       "         'presence': 3047,\n",
       "         'ground': 3657,\n",
       "         'imagine': 1745,\n",
       "         'aware': 11367,\n",
       "         'complexity': 759,\n",
       "         'need': 68894,\n",
       "         'currently': 10662,\n",
       "         'encountering': 119,\n",
       "         'potential': 6650,\n",
       "         'powerful': 1710,\n",
       "         'driving': 2043,\n",
       "         'economic': 50277,\n",
       "         'balkan': 698,\n",
       "         'intensive': 1563,\n",
       "         'croatia': 2267,\n",
       "         'after': 21737,\n",
       "         'overview': 462,\n",
       "         'precise': 2256,\n",
       "         'above': 9517,\n",
       "         'how': 34972,\n",
       "         'being': 47099,\n",
       "         'implemented': 6574,\n",
       "         'whether': 21578,\n",
       "         'working': 17883,\n",
       "         'seeber': 68,\n",
       "         'repeatedly': 1498,\n",
       "         'systematically': 877,\n",
       "         'point': 36289,\n",
       "         'processes': 2289,\n",
       "         'balkans': 2693,\n",
       "         'stated': 4878,\n",
       "         'prospect': 1532,\n",
       "         'one': 86492,\n",
       "         'negotiating': 2587,\n",
       "         'communication': 8592,\n",
       "         'reporting': 1166,\n",
       "         'make': 52527,\n",
       "         'right': 35124,\n",
       "         'carry': 5444,\n",
       "         'detailed': 3102,\n",
       "         'minute': 1774,\n",
       "         'review': 6455,\n",
       "         'even': 37003,\n",
       "         'though': 9402,\n",
       "         'certain': 20254,\n",
       "         'difficulties': 5346,\n",
       "         'problems': 24214,\n",
       "         'delays': 1484,\n",
       "         'here': 36200,\n",
       "         'me': 30900,\n",
       "         'according': 7694,\n",
       "         'personal': 5128,\n",
       "         'assessment': 5834,\n",
       "         'progressing': 328,\n",
       "         'good': 31386,\n",
       "         'rate': 5695,\n",
       "         'increase': 15441,\n",
       "         'innovation': 5362,\n",
       "         'intend': 3321,\n",
       "         'put': 25730,\n",
       "         'forward': 17071,\n",
       "         'achieve': 13712,\n",
       "         '3': 8492,\n",
       "         'investment': 9123,\n",
       "         'smes': 3267,\n",
       "         'participate': 2859,\n",
       "         'those': 53913,\n",
       "         'mountainous': 192,\n",
       "         'island': 1587,\n",
       "         'remote': 730,\n",
       "         'regions': 14490,\n",
       "         'funded': 1416,\n",
       "         'promote': 8994,\n",
       "         'present': 18832,\n",
       "         'agreed': 8526,\n",
       "         'any': 47289,\n",
       "         'quantified': 168,\n",
       "         'target': 3098,\n",
       "         'virtually': 1069,\n",
       "         'impossible': 3535,\n",
       "         'practice': 7884,\n",
       "         'covers': 1431,\n",
       "         'wide': 3920,\n",
       "         'range': 3158,\n",
       "         'activities': 9380,\n",
       "         'measure': 4726,\n",
       "         'opted': 423,\n",
       "         '2002': 5199,\n",
       "         'adopt': 7498,\n",
       "         'guideline': 302,\n",
       "         'quantitative': 559,\n",
       "         'spending': 2717,\n",
       "         'development': 42574,\n",
       "         'otherwise': 4156,\n",
       "         'known': 5126,\n",
       "         'r': 337,\n",
       "         'd': 2265,\n",
       "         'barcelona': 1784,\n",
       "         'internationally': 971,\n",
       "         'defined': 2800,\n",
       "         'oecd': 825,\n",
       "         'frascati': 1,\n",
       "         'manual': 136,\n",
       "         'easier': 2806,\n",
       "         'quantify': 90,\n",
       "         'noted': 2497,\n",
       "         'recently': 6672,\n",
       "         'used': 15507,\n",
       "         'preferred': 764,\n",
       "         'reference': 5423,\n",
       "         'indicator': 371,\n",
       "         'years': 35975,\n",
       "         'increasing': 7803,\n",
       "         'private': 6451,\n",
       "         'significant': 9184,\n",
       "         'segments': 98,\n",
       "         'business': 8306,\n",
       "         'sector': 21306,\n",
       "         'policy': 67818,\n",
       "         'carried': 7425,\n",
       "         'framework': 21296,\n",
       "         'cip': 76,\n",
       "         'competitiveness': 5987,\n",
       "         'structural': 9172,\n",
       "         'seventh': 932,\n",
       "         'fp7': 151,\n",
       "         'were': 44837,\n",
       "         'conceived': 272,\n",
       "         'bearing': 1836,\n",
       "         'needs': 18853,\n",
       "         'beneficiaries': 827,\n",
       "         'minimum': 4945,\n",
       "         'quota': 1446,\n",
       "         '15': 6008,\n",
       "         'introduced': 4101,\n",
       "         'small': 14949,\n",
       "         'medium': 6267,\n",
       "         'sized': 4499,\n",
       "         'enterprises': 5040,\n",
       "         'covered': 3128,\n",
       "         'thematic': 418,\n",
       "         'priorities': 7010,\n",
       "         'help': 18886,\n",
       "         'receive': 4805,\n",
       "         'supported': 6168,\n",
       "         'relevant': 5810,\n",
       "         'communications': 1689,\n",
       "         'energy': 29389,\n",
       "         'supply': 5269,\n",
       "         'capacities': 667,\n",
       "         'convergence': 2386,\n",
       "         'outermost': 1157,\n",
       "         'unlocked': 14,\n",
       "         'addition': 8029,\n",
       "         'programmes': 12157,\n",
       "         'incentives': 1495,\n",
       "         'promoted': 1312,\n",
       "         'series': 3055,\n",
       "         'initiatives': 6905,\n",
       "         'negotiated': 1537,\n",
       "         'parliament': 110257,\n",
       "         'create': 11077,\n",
       "         'institute': 1238,\n",
       "         'technology': 5595,\n",
       "         'eurostars': 4,\n",
       "         'actively': 1966,\n",
       "         'involve': 3113,\n",
       "         'innovative': 2186,\n",
       "         'article': 12273,\n",
       "         '169': 115,\n",
       "         'treaty': 25662,\n",
       "         'technological': 2705,\n",
       "         '171': 67,\n",
       "         'added': 4174,\n",
       "         'preparing': 2322,\n",
       "         'plan': 10483,\n",
       "         'sets': 1967,\n",
       "         'technologies': 3412,\n",
       "         'based': 16455,\n",
       "         'ranging': 1016,\n",
       "         'consultation': 3486,\n",
       "         'aiming': 790,\n",
       "         'along': 6186,\n",
       "         'same': 33972,\n",
       "         'lines': 3303,\n",
       "         'highlight': 3295,\n",
       "         'context': 10904,\n",
       "         'sustainable': 9018,\n",
       "         'focusing': 1041,\n",
       "         'climate': 11167,\n",
       "         'change': 18649,\n",
       "         'role': 20748,\n",
       "         'economy': 13577,\n",
       "         'fundamental': 16268,\n",
       "         'play': 8450,\n",
       "         'some': 50543,\n",
       "         'targeted': 1623,\n",
       "         'interests': 13865,\n",
       "         'mentioned': 10797,\n",
       "         'bonus': 193,\n",
       "         'planned': 2412,\n",
       "         'marine': 1300,\n",
       "         'baltic': 2838,\n",
       "         'sea': 6280,\n",
       "         'area': 27489,\n",
       "         'coordinated': 2336,\n",
       "         'borne': 1046,\n",
       "         'pursuit': 687,\n",
       "         'discussions': 5820,\n",
       "         'held': 7387,\n",
       "         'informal': 1420,\n",
       "         'lisbon': 11703,\n",
       "         'july': 3297,\n",
       "         'contributing': 1183,\n",
       "         'achievement': 1760,\n",
       "         'refer': 4330,\n",
       "         'considered': 5540,\n",
       "         'impact': 10258,\n",
       "         'internationalisation': 78,\n",
       "         'furthermore': 6875,\n",
       "         'highlighting': 592,\n",
       "         'human': 39241,\n",
       "         'resources': 16722,\n",
       "         'science': 1509,\n",
       "         'reinforcement': 389,\n",
       "         'society': 13916,\n",
       "         'hopes': 1732,\n",
       "         'bolster': 159,\n",
       "         'favourable': 1655,\n",
       "         'increased': 7417,\n",
       "         'across': 6736,\n",
       "         'el': 1987,\n",
       "         'whom': 4437,\n",
       "         'reply': 3797,\n",
       "         'infrastructure': 4592,\n",
       "         'preparation': 2041,\n",
       "         'governance': 3905,\n",
       "         'enable': 6399,\n",
       "         'ambitious': 4485,\n",
       "         'developed': 5657,\n",
       "         'controls': 3635,\n",
       "         'implement': 6280,\n",
       "         'scheme': 2755,\n",
       "         'correctly': 1704,\n",
       "         'understood': 2063,\n",
       "         'corrected': 467,\n",
       "         'enlightened': 172,\n",
       "         'exact': 655,\n",
       "         'meaning': 1591,\n",
       "         'her': 11441,\n",
       "         'follows': 2102,\n",
       "         'directly': 4776,\n",
       "         'relate': 1442,\n",
       "         'strategy': 18397,\n",
       "         'aspect': 4560,\n",
       "         'obviously': 5650,\n",
       "         'assessing': 919,\n",
       "         'cycle': 850,\n",
       "         'debate': 39602,\n",
       "         'precisely': 5518,\n",
       "         'achieving': 4455,\n",
       "         'targets': 3727,\n",
       "         'objectives': 12204,\n",
       "         'proposed': 15809,\n",
       "         'concerns': 12307,\n",
       "         'relating': 7449,\n",
       "         'chapter': 1513,\n",
       "         'useful': 4202,\n",
       "         'closely': 4942,\n",
       "         'monitor': 2918,\n",
       "         'developing': 11048,\n",
       "         'adopting': 3410,\n",
       "         'policies': 15789,\n",
       "         'meet': 7010,\n",
       "         'answering': 269,\n",
       "         'yesterday': 5026,\n",
       "         'commissioner': 42313,\n",
       "         'potočnik': 139,\n",
       "         'stressed': 1736,\n",
       "         'number': 25599,\n",
       "         'fighting': 2889,\n",
       "         'additional': 5990,\n",
       "         'mobilise': 700,\n",
       "         'attention': 14004,\n",
       "         'solving': 850,\n",
       "         'vital': 6399,\n",
       "         'problem': 25143,\n",
       "         'regarded': 1655,\n",
       "         'world': 33117,\n",
       "         'leading': 3648,\n",
       "         'both': 30783,\n",
       "         'almost': 6139,\n",
       "         'historic': 2285,\n",
       "         'responsibility': 15187,\n",
       "         'bali': 291,\n",
       "         'conference': 10594,\n",
       "         'hopefully': 1325,\n",
       "         'co2': 2140,\n",
       "         'emissions': 6097,\n",
       "         'post': 2672,\n",
       "         'kyoto': 1953,\n",
       "         '2012': 1360,\n",
       "         'encourage': 5843,\n",
       "         'international': 33034,\n",
       "         'itself': 15002,\n",
       "         'ourselves': 7606,\n",
       "         'paleckis': 15,\n",
       "         'highly': 4533,\n",
       "         'saving': 1079,\n",
       "         'level': 28906,\n",
       "         'portugal': 3290,\n",
       "         'direct': 5923,\n",
       "         'experience': 6732,\n",
       "         'dedicated': 753,\n",
       "         'great': 24060,\n",
       "         'sciences': 116,\n",
       "         'alternative': 3857,\n",
       "         'sources': 4059,\n",
       "         'much': 32013,\n",
       "         'quickly': 6424,\n",
       "         'concentrate': 1949,\n",
       "         'voted': 16824,\n",
       "         'eit': 128,\n",
       "         'today': 37023,\n",
       "         'facto': 547,\n",
       "         'absolute': 2052,\n",
       "         'expect': 5448,\n",
       "         'able': 27373,\n",
       "         'conjunction': 748,\n",
       "         'swiftly': 682,\n",
       "         'think': 37559,\n",
       "         'mid': 1135,\n",
       "         'term': 14651,\n",
       "         'health': 23516,\n",
       "         'check': 1827,\n",
       "         'rübig': 345,\n",
       "         'your': 29223,\n",
       "         'permission': 515,\n",
       "         'effective': 14396,\n",
       "         'launch': 1649,\n",
       "         'entry': 2934,\n",
       "         'operation': 4290,\n",
       "         'strive': 782,\n",
       "         'while': 15950,\n",
       "         'institutions': 18690,\n",
       "         'guarantee': 8914,\n",
       "         'try': 6344,\n",
       "         'subjects': 1580,\n",
       "         'ignore': 1364,\n",
       "         'kosovo': 4557,\n",
       "         'javier': 220,\n",
       "         'un': 6603,\n",
       "         'said': 32298,\n",
       "         'delay': 2994,\n",
       "         'beneficial': 1302,\n",
       "         'french': 6487,\n",
       "         'news': 2056,\n",
       "         'agency': 6388,\n",
       "         'quoting': 222,\n",
       "         'considering': 2554,\n",
       "         'seriously': 4847,\n",
       "         'possibility': 5836,\n",
       "         'recognising': 813,\n",
       "         'organised': 3823,\n",
       "         'comments': 5082,\n",
       "         'categorically': 282,\n",
       "         'deny': 972,\n",
       "         'unilateral': 1075,\n",
       "         'recognition': 4272,\n",
       "         'anticipates': 80,\n",
       "         'procedures': 8009,\n",
       "         '18': 3082,\n",
       "         'comprehensive': 4220,\n",
       "         'drawn': 3908,\n",
       "         'martti': 34,\n",
       "         'ahtissari': 1,\n",
       "         'envoy': 388,\n",
       "         'provides': 5126,\n",
       "         'settlement': 1539,\n",
       "         'united': 22937,\n",
       "         'security': 27270,\n",
       "         'intensified': 323,\n",
       "         'timely': 1252,\n",
       "         'suspended': 1450,\n",
       "         'alert': 518,\n",
       "         'statement': 7512,\n",
       "         'august': 1118,\n",
       "         'ban': 4839,\n",
       "         'ki': 55,\n",
       "         'moon': 99,\n",
       "         'highlighted': 2103,\n",
       "         'contact': 2343,\n",
       "         'group': 37991,\n",
       "         'pristina': 93,\n",
       "         'belgrade': 419,\n",
       "         'led': 4689,\n",
       "         'troika': 520,\n",
       "         'representatives': 6104,\n",
       "         'russian': 3738,\n",
       "         'asked': 7295,\n",
       "         'him': 7815,\n",
       "         'intention': 3368,\n",
       "         'behind': 5801,\n",
       "         'facilitating': 856,\n",
       "         'parties': 9560,\n",
       "         'responsible': 10091,\n",
       "         'proposing': 3088,\n",
       "         'ideas': 3866,\n",
       "         '29': 1465,\n",
       "         'appointed': 1093,\n",
       "         'ambassador': 454,\n",
       "         'wolfgang': 53,\n",
       "         'ischinger': 1,\n",
       "         'far': 22698,\n",
       "         'separately': 535,\n",
       "         '11': 5468,\n",
       "         '30': 5957,\n",
       "         'vienna': 815,\n",
       "         'london': 1231,\n",
       "         'ministerial': 981,\n",
       "         'york': 709,\n",
       "         'alongside': 1523,\n",
       "         'assembly': 3075,\n",
       "         'ministers': 6436,\n",
       "         'aimed': 5382,\n",
       "         'giving': 6137,\n",
       "         'impetus': 1209,\n",
       "         '28': 1520,\n",
       "         'separate': 2612,\n",
       "         'meetings': 3215,\n",
       "         'possibly': 1924,\n",
       "         'followed': 3249,\n",
       "         'initial': 2904,\n",
       "         'day': 11238,\n",
       "         'cooperate': 2479,\n",
       "         'conduct': 3396,\n",
       "         'substantial': 3531,\n",
       "         'realise': 2365,\n",
       "         'stage': 7004,\n",
       "         'early': 4453,\n",
       "         'results': 10430,\n",
       "         'condoleezza': 40,\n",
       "         'rice': 292,\n",
       "         'become': 14873,\n",
       "         'independent': 5554,\n",
       "         'scenario': 639,\n",
       "         'clear': 30994,\n",
       "         'proclamation': 131,\n",
       "         'independence': 3788,\n",
       "         'immediate': 3327,\n",
       "         'usa': 2517,\n",
       "         'method': 3914,\n",
       "         'worsening': 384,\n",
       "         'destabilisation': 144,\n",
       "         'wider': 2014,\n",
       "         'region': 12877,\n",
       "         'albanian': 638,\n",
       "         'nationalism': 484,\n",
       "         'unified': 746,\n",
       "         'perceptive': 26,\n",
       "         'uniform': 1892,\n",
       "         'read': 3686,\n",
       "         'times': 7527,\n",
       "         'diplomats': 261,\n",
       "         'hastening': 9,\n",
       "         'empt': 116,\n",
       "         'slavishly': 12,\n",
       "         'follow': 5795,\n",
       "         'why': 29733,\n",
       "         'saying': 7418,\n",
       "         'heard': 5830,\n",
       "         'statements': 4382,\n",
       "         'mrs': 30396,\n",
       "         'riis': 94,\n",
       "         'jørgensen': 144,\n",
       "         'comment': 4001,\n",
       "         'leave': 4519,\n",
       "         'properly': 4527,\n",
       "         'occur': 1306,\n",
       "         'tranquillity': 25,\n",
       "         'confidentiality': 448,\n",
       "         'naturally': 4052,\n",
       "         'form': 10665,\n",
       "         'contain': 1867,\n",
       "         'likelihood': 296,\n",
       "         'recommendations': 4056,\n",
       "         'resulting': 1985,\n",
       "         'few': 17069,\n",
       "         'concluded': 2504,\n",
       "         'published': 2151,\n",
       "         'whatever': 2854,\n",
       "         'indicated': 1856,\n",
       "         'decisions': 11928,\n",
       "         'taken': 27916,\n",
       "         'remains': 5700,\n",
       "         'cohesive': 326,\n",
       "         'constant': 1813,\n",
       "         'call': 14573,\n",
       "         ...})"
      ]
     },
     "execution_count": 18,
     "metadata": {},
     "output_type": "execute_result"
    }
   ],
   "source": [
    "from collections import Counter\n",
    "count = Counter(unigrams)\n",
    "count"
   ]
  },
  {
   "cell_type": "code",
   "execution_count": 19,
   "metadata": {
    "collapsed": true
   },
   "outputs": [],
   "source": [
    " rare= set(key for key, value in count.items() if value <10)"
   ]
  },
  {
   "cell_type": "code",
   "execution_count": 20,
   "metadata": {
    "collapsed": false
   },
   "outputs": [],
   "source": [
    "unigrams1=[]\n",
    "for word in unigrams:\n",
    "    if word in rare:\n",
    "        unigrams1.append('*rare*')\n",
    "    else:\n",
    "         unigrams1.append(word)"
   ]
  },
  {
   "cell_type": "code",
   "execution_count": 22,
   "metadata": {
    "collapsed": false
   },
   "outputs": [],
   "source": [
    "del unigrams"
   ]
  },
  {
   "cell_type": "code",
   "execution_count": 23,
   "metadata": {
    "collapsed": false
   },
   "outputs": [],
   "source": [
    "from collections import Counter\n",
    "count = Counter(unigrams1)"
   ]
  },
  {
   "cell_type": "code",
   "execution_count": 24,
   "metadata": {
    "collapsed": true
   },
   "outputs": [],
   "source": [
    "count = {key: value for key, value in count.items() if key!='*rare*'}"
   ]
  },
  {
   "cell_type": "code",
   "execution_count": 27,
   "metadata": {
    "collapsed": false
   },
   "outputs": [],
   "source": [
    "from nltk.util import ngrams\n",
    "bigrams = [ gram for gram in ngrams(unigrams1, 2) ]"
   ]
  },
  {
   "cell_type": "code",
   "execution_count": 28,
   "metadata": {
    "collapsed": false
   },
   "outputs": [],
   "source": [
    "rare_bi=[]\n",
    "for bigram in bigrams:\n",
    "         if bigram[0]=='*rare*' or bigram[1]=='*rare*':\n",
    "                       rare_bi.append(bigram)    \n",
    "    "
   ]
  },
  {
   "cell_type": "code",
   "execution_count": 29,
   "metadata": {
    "collapsed": true
   },
   "outputs": [],
   "source": [
    "count1=Counter(bigrams)"
   ]
  },
  {
   "cell_type": "code",
   "execution_count": 31,
   "metadata": {
    "collapsed": false
   },
   "outputs": [],
   "source": [
    "for item in rare_bi:\n",
    "    count1.pop(item, None)"
   ]
  },
  {
   "cell_type": "code",
   "execution_count": 33,
   "metadata": {
    "collapsed": true
   },
   "outputs": [],
   "source": [
    "del bigrams"
   ]
  },
  {
   "cell_type": "code",
   "execution_count": 34,
   "metadata": {
    "collapsed": true
   },
   "outputs": [],
   "source": [
    "del rare_bi"
   ]
  },
  {
   "cell_type": "code",
   "execution_count": 35,
   "metadata": {
    "collapsed": false
   },
   "outputs": [],
   "source": [
    "trigrams = [ gram for gram in ngrams(unigrams1, 3) ]"
   ]
  },
  {
   "cell_type": "code",
   "execution_count": 36,
   "metadata": {
    "collapsed": false
   },
   "outputs": [],
   "source": [
    "del unigrams1"
   ]
  },
  {
   "cell_type": "code",
   "execution_count": 37,
   "metadata": {
    "collapsed": true
   },
   "outputs": [],
   "source": [
    "rare_tri=[]\n",
    "for trigram in trigrams:\n",
    "    if trigram[0]=='*rare*' or trigram[1]=='*rare*' or trigram[2]=='*rare*':\n",
    "        rare_tri.append(trigram)"
   ]
  },
  {
   "cell_type": "code",
   "execution_count": 39,
   "metadata": {
    "collapsed": true
   },
   "outputs": [],
   "source": [
    "count2=Counter(trigrams)"
   ]
  },
  {
   "cell_type": "code",
   "execution_count": 40,
   "metadata": {
    "collapsed": true
   },
   "outputs": [],
   "source": [
    "for item in rare_tri:\n",
    "    count2.pop(item, None)"
   ]
  },
  {
   "cell_type": "code",
   "execution_count": 41,
   "metadata": {
    "collapsed": true
   },
   "outputs": [],
   "source": [
    "del trigrams\n",
    "del rare_tri"
   ]
  },
  {
   "cell_type": "code",
   "execution_count": 144,
   "metadata": {
    "collapsed": false
   },
   "outputs": [],
   "source": [
    "#trigram model\n",
    "def trimodel(tup):\n",
    "    trikeys,bikeys,unikeys=count2.keys(),count1.keys(),count.keys()\n",
    "    if tup[0:2] in bikeys:\n",
    "        if tup in trikeys:\n",
    "             p=(count2[tup]+1)/(count1[tup[0:2]]+len(count))\n",
    "        else :\n",
    "             p=1/(count1[tup[0:2]]+len(count))\n",
    "    else : \n",
    "        if tup[1:] in bikeys:\n",
    "             p=0.4*count1[tup[1:]]/count[tup[1]]\n",
    "        else:\n",
    "            if tup[2] in unikeys:\n",
    "                 p=0.4*count[tup[2]]/sum(count.values())\n",
    "            else :\n",
    "                 p=10**(-15)\n",
    "    return p     "
   ]
  },
  {
   "cell_type": "code",
   "execution_count": 145,
   "metadata": {
    "collapsed": false
   },
   "outputs": [],
   "source": [
    "#bigram model\n",
    "def bimodel(tup):\n",
    "    bikeys,unikeys=count1.keys(),count.keys()\n",
    "    if tup[0] in unikeys:\n",
    "        if tup in bikeys:\n",
    "             p=(count1[tup]+1)/(count[tup[0]]+len(count))\n",
    "        else :\n",
    "             p=1/(count[tup[0]]+len(count))\n",
    "    else : \n",
    "        if tup[1] in unikeys:\n",
    "            p=0.4*(count[tup[1]]/sum(count.values()))\n",
    "        else: \n",
    "            p=10**(-15)\n",
    "    return p    \n"
   ]
  },
  {
   "cell_type": "markdown",
   "metadata": {},
   "source": [
    "Αρχη του (iii)"
   ]
  },
  {
   "cell_type": "markdown",
   "metadata": {},
   "source": [
    "Δημιουργια λίστας με τις προτάσεις των txt files"
   ]
  },
  {
   "cell_type": "code",
   "execution_count": null,
   "metadata": {
    "collapsed": true
   },
   "outputs": [],
   "source": [
    "content=[]\n",
    "for file in test_txts:\n",
    "    fp=open(file, encoding=\"utf8\")\n",
    "    try:\n",
    "        for line in fp:\n",
    "             content.append(line)\n",
    "    finally:\n",
    "        fp.close()"
   ]
  },
  {
   "cell_type": "markdown",
   "metadata": {},
   "source": [
    "Αφαίρεση των htmls"
   ]
  },
  {
   "cell_type": "code",
   "execution_count": 46,
   "metadata": {
    "collapsed": true
   },
   "outputs": [],
   "source": [
    "no_html_content=[]\n",
    "for s in content:\n",
    "     no_html_content.append(cleanhtml(s))\n"
   ]
  },
  {
   "cell_type": "markdown",
   "metadata": {},
   "source": [
    "Aφαίρεση καθε πρόταση η αποτελείται μόνο από '/n' "
   ]
  },
  {
   "cell_type": "code",
   "execution_count": 48,
   "metadata": {
    "collapsed": false
   },
   "outputs": [],
   "source": [
    "content=[]\n",
    "for s in no_html_content:\n",
    "    if s!='\\n':\n",
    "        content.append(s)"
   ]
  },
  {
   "cell_type": "markdown",
   "metadata": {},
   "source": [
    "Aφαίρεση του '/n' από το τέλος της καθε πρότασης"
   ]
  },
  {
   "cell_type": "code",
   "execution_count": 49,
   "metadata": {
    "collapsed": true
   },
   "outputs": [],
   "source": [
    "content=[s.strip('\\n') for s in content]"
   ]
  },
  {
   "cell_type": "code",
   "execution_count": 50,
   "metadata": {
    "collapsed": true
   },
   "outputs": [],
   "source": [
    "del no_html_content"
   ]
  },
  {
   "cell_type": "markdown",
   "metadata": {},
   "source": [
    "επιλέγουμε τυχαία 100 προτασεις απο το τεστ σετ"
   ]
  },
  {
   "cell_type": "code",
   "execution_count": 51,
   "metadata": {
    "collapsed": true
   },
   "outputs": [],
   "source": [
    "random.seed(2)\n",
    "s=random.sample(range(0,len(content)),100)"
   ]
  },
  {
   "cell_type": "code",
   "execution_count": 52,
   "metadata": {
    "collapsed": false
   },
   "outputs": [],
   "source": [
    "list_of_sent=[]\n",
    "for i in s:\n",
    "        list_of_sent.append(content[i])"
   ]
  },
  {
   "cell_type": "markdown",
   "metadata": {},
   "source": [
    "καθε πρόταση την σπάμε σε tokens"
   ]
  },
  {
   "cell_type": "code",
   "execution_count": 53,
   "metadata": {
    "collapsed": false
   },
   "outputs": [],
   "source": [
    "list_of_unis=[]\n",
    "for sent in list_of_sent:\n",
    "     list_of_unis.append(tokenizer.tokenize(sent))"
   ]
  },
  {
   "cell_type": "markdown",
   "metadata": {},
   "source": [
    "τα κάνουμε όλα μικρά"
   ]
  },
  {
   "cell_type": "code",
   "execution_count": 59,
   "metadata": {
    "collapsed": true
   },
   "outputs": [],
   "source": [
    "for i in range(len(list_of_unis)):\n",
    "    list_of_unis[i]= [x for x in map(str.lower,list_of_unis[i])]"
   ]
  },
  {
   "cell_type": "markdown",
   "metadata": {},
   "source": [
    "σε μια λίστα αποθηκευουμε τον αριθμό τον λεξεων της καθε προτασης"
   ]
  },
  {
   "cell_type": "code",
   "execution_count": 109,
   "metadata": {
    "collapsed": true
   },
   "outputs": [],
   "source": [
    "list_of_lens=[]\n",
    "for unis in list_of_unis:\n",
    "    list_of_lens.append(len(unis))\n",
    "    "
   ]
  },
  {
   "cell_type": "markdown",
   "metadata": {},
   "source": [
    "βρισκουμε τα διγράμματα της κάθε πρότασης"
   ]
  },
  {
   "cell_type": "code",
   "execution_count": 92,
   "metadata": {
    "collapsed": false
   },
   "outputs": [],
   "source": [
    "list_of_bis=[]\n",
    "for unis in list_of_unis:\n",
    "    if len(unis)>1:\n",
    "        list_of_bis.append([ gram for gram in ngrams(unis, 2)])\n",
    "    else:\n",
    "        list_of_bis.append(('*empty*',unis[0]))"
   ]
  },
  {
   "cell_type": "markdown",
   "metadata": {},
   "source": [
    "βρισκουμε τα τριγράμματα της κάθε πρότασης"
   ]
  },
  {
   "cell_type": "code",
   "execution_count": 114,
   "metadata": {
    "collapsed": false
   },
   "outputs": [],
   "source": [
    "list_of_tris=[]\n",
    "for unis in list_of_unis:\n",
    "    if len(unis)>2:\n",
    "         list_of_tris.append([ gram for gram in ngrams(unis, 3)])\n",
    "    elif len(unis)==2:\n",
    "        list_of_tris.append(('*empty*',unis[0],unis[1]))\n",
    "    elif len(unis)==1:\n",
    "         list_of_tris.append(('*empty*','*empty*',unis[0]))"
   ]
  },
  {
   "cell_type": "markdown",
   "metadata": {},
   "source": [
    "συνάρτηση η οποία υπολογίζει το αθροισμα των log πιθανοτητων P($w_i$|$w_{i-1}$) παιρνοντας ως input μια προταση σπασμένη σε διγράμματα"
   ]
  },
  {
   "cell_type": "code",
   "execution_count": 62,
   "metadata": {
    "collapsed": true
   },
   "outputs": [],
   "source": [
    "import math\n",
    "def bi_sent_log_prob(bis):\n",
    "    l_bis=[]\n",
    "    for bi in bis:\n",
    "        l_bis.append(math.log(bimodel(bi)))\n",
    "        return sum(l_bis)"
   ]
  },
  {
   "cell_type": "markdown",
   "metadata": {},
   "source": [
    "υπολογισμός των πιθανοτητων για τις 100 correct προτάσεις από το τεστ σετ σε διγράμματα"
   ]
  },
  {
   "cell_type": "code",
   "execution_count": 162,
   "metadata": {
    "collapsed": false
   },
   "outputs": [],
   "source": [
    "sent_prob=[]\n",
    "for sent_bis in list_of_bis:\n",
    "             sent_prob.append(bi_sent_log_prob(sent_bis))\n",
    "             "
   ]
  },
  {
   "cell_type": "markdown",
   "metadata": {},
   "source": [
    "μεση πιθανοτητα υπαρξης των 100 correct προτάσεων σε διγράμματα"
   ]
  },
  {
   "cell_type": "code",
   "execution_count": 164,
   "metadata": {
    "collapsed": false
   },
   "outputs": [
    {
     "data": {
      "text/plain": [
       "-4.749026734654751"
      ]
     },
     "execution_count": 164,
     "metadata": {},
     "output_type": "execute_result"
    }
   ],
   "source": [
    "sum(sent_prob)/len(sent_prob)"
   ]
  },
  {
   "cell_type": "markdown",
   "metadata": {},
   "source": [
    "συνάρτηση η οποία υπολογίζει το αθροισμα των log πιθανοτητων P($w_i$|$w_{i-1}$,$w_{i-2}$) παιρνοντας ως input μια προταση σπασμένη σε τριγράμματα"
   ]
  },
  {
   "cell_type": "code",
   "execution_count": 112,
   "metadata": {
    "collapsed": true
   },
   "outputs": [],
   "source": [
    "def tri_sent_log_prob(tris):\n",
    "    l_tris=[]\n",
    "    for tri in tris:\n",
    "        l_tris.append(math.log(trimodel(tri)))\n",
    "    return sum(l_tris)"
   ]
  },
  {
   "cell_type": "markdown",
   "metadata": {},
   "source": [
    "υπολογισμός των πιθανοτητων για τις 100 correct προτάσεις από το τεστ σετ σε τριγράμματα"
   ]
  },
  {
   "cell_type": "code",
   "execution_count": 141,
   "metadata": {
    "collapsed": false
   },
   "outputs": [],
   "source": [
    "sent_prob1=[]\n",
    "for sent_tris in list_of_tris:\n",
    "    sent_prob1.append(tri_sent_log_prob(sent_tris))\n"
   ]
  },
  {
   "cell_type": "markdown",
   "metadata": {},
   "source": [
    "μεση πιθανοτητα υπαρξης των 100 correct προτάσεων σε τριγράμματα"
   ]
  },
  {
   "cell_type": "code",
   "execution_count": 142,
   "metadata": {
    "collapsed": false
   },
   "outputs": [
    {
     "data": {
      "text/plain": [
       "-491.9546435226776"
      ]
     },
     "execution_count": 142,
     "metadata": {},
     "output_type": "execute_result"
    }
   ],
   "source": [
    "sum(sent_prob1)/len(sent_prob1)"
   ]
  },
  {
   "cell_type": "markdown",
   "metadata": {},
   "source": [
    "φτιάχνουμε μια λιστα με τα τις distinct words που εμφανίζονται στο train set"
   ]
  },
  {
   "cell_type": "code",
   "execution_count": 120,
   "metadata": {
    "collapsed": true
   },
   "outputs": [],
   "source": [
    "list_of_words=[]\n",
    "for word in count.keys():\n",
    "    list_of_words.append(word)"
   ]
  },
  {
   "cell_type": "markdown",
   "metadata": {},
   "source": [
    "συνάρτηση η οποία φτιάχνει μια λιστα απο τυχαιες λέξεις απο μια λιστα λεξεων με συγκεκριμενο αριθμό λέξεων, εστω αυτη η λίστα είναι τα tokens μιας λάθος προτασης "
   ]
  },
  {
   "cell_type": "code",
   "execution_count": 146,
   "metadata": {
    "collapsed": true
   },
   "outputs": [],
   "source": [
    "def create_sent(n_words,l_words):\n",
    "    s=random.sample(range(0,len(l_words)), n_words)\n",
    "    l=[]\n",
    "    for i in s:\n",
    "        l.append(l_words[i])\n",
    "    return l    "
   ]
  },
  {
   "cell_type": "markdown",
   "metadata": {},
   "source": [
    "δημιουργουμε 100 τετοιες λάθος προτάσεις /λιστες tokens"
   ]
  },
  {
   "cell_type": "code",
   "execution_count": 147,
   "metadata": {
    "collapsed": false
   },
   "outputs": [],
   "source": [
    "random.seed(2)\n",
    "l_rand_sent=[]\n",
    "for i in range(len(list_of_sent)):\n",
    "    l_rand_sent.append(create_sent(list_of_lens[i],list_of_words))\n"
   ]
  },
  {
   "cell_type": "markdown",
   "metadata": {},
   "source": [
    "φτίαχνουμε τα διγράμματα των λάθος προτάσεων"
   ]
  },
  {
   "cell_type": "code",
   "execution_count": 148,
   "metadata": {
    "collapsed": true
   },
   "outputs": [],
   "source": [
    "list_of_bis1=[]\n",
    "for unis in l_rand_sent:\n",
    "    if len(unis)>1:\n",
    "        list_of_bis1.append([ gram for gram in ngrams(unis, 2)])\n",
    "    else:\n",
    "        list_of_bis.append(('*empty*',unis[0]))"
   ]
  },
  {
   "cell_type": "markdown",
   "metadata": {},
   "source": [
    "φτίαχνουμε τα τριγράμματα των λάθος προτάσεων"
   ]
  },
  {
   "cell_type": "code",
   "execution_count": 151,
   "metadata": {
    "collapsed": false
   },
   "outputs": [],
   "source": [
    "list_of_tris1=[]\n",
    "for unis in l_rand_sent:\n",
    "        if len(unis)>2:\n",
    "            list_of_tris1.append([ gram for gram in ngrams(unis, 3)])\n",
    "        elif len(unis)==2:\n",
    "            list_of_tris.append(('*empty*',unis[0],unis[1]))\n",
    "        elif len(unis)==1:\n",
    "            list_of_tris.append(('*empty*','*empty*',unis[0]))"
   ]
  },
  {
   "cell_type": "markdown",
   "metadata": {},
   "source": [
    "υπολογισμός των πιθανοτητων για τις 100 incorrect προτάσεις σε διγράμματα"
   ]
  },
  {
   "cell_type": "code",
   "execution_count": 152,
   "metadata": {
    "collapsed": true
   },
   "outputs": [],
   "source": [
    "sent_prob2=[]\n",
    "for sent_bis in list_of_bis1:\n",
    "    sent_prob2.append(bi_sent_log_prob(sent_bis))"
   ]
  },
  {
   "cell_type": "markdown",
   "metadata": {},
   "source": [
    "υπολογισμός των πιθανοτητων για τις 100 incorrect προτάσεις σε τριγράμματα"
   ]
  },
  {
   "cell_type": "code",
   "execution_count": 153,
   "metadata": {
    "collapsed": true
   },
   "outputs": [],
   "source": [
    "sent_prob3=[]\n",
    "for sent_tris in list_of_tris1:\n",
    "    sent_prob3.append(tri_sent_log_prob(sent_tris))\n"
   ]
  },
  {
   "cell_type": "markdown",
   "metadata": {},
   "source": [
    "μεση πιθανοτητα υπαρξης των 100 incorrect προτάσεων σε διγράμματα"
   ]
  },
  {
   "cell_type": "code",
   "execution_count": 154,
   "metadata": {
    "collapsed": false
   },
   "outputs": [
    {
     "data": {
      "text/plain": [
       "-10.290057602647463"
      ]
     },
     "execution_count": 154,
     "metadata": {},
     "output_type": "execute_result"
    }
   ],
   "source": [
    "sum(sent_prob2)/len(sent_prob2)"
   ]
  },
  {
   "cell_type": "markdown",
   "metadata": {},
   "source": [
    "μεση πιθανοτητα υπαρξης των 100 incorrect προτάσεων σε τριγράμματα"
   ]
  },
  {
   "cell_type": "code",
   "execution_count": 155,
   "metadata": {
    "collapsed": false
   },
   "outputs": [
    {
     "data": {
      "text/plain": [
       "-964.0050276846106"
      ]
     },
     "execution_count": 155,
     "metadata": {},
     "output_type": "execute_result"
    }
   ],
   "source": [
    "sum(sent_prob3)/len(sent_prob3)"
   ]
  },
  {
   "cell_type": "code",
   "execution_count": 45,
   "metadata": {
    "collapsed": true
   },
   "outputs": [],
   "source": [
    "import numpy as np\n",
    "np.save('unigrams.npy', count) "
   ]
  },
  {
   "cell_type": "code",
   "execution_count": 46,
   "metadata": {
    "collapsed": true
   },
   "outputs": [],
   "source": [
    "np.save('bigrams.npy', count1) "
   ]
  },
  {
   "cell_type": "code",
   "execution_count": 47,
   "metadata": {
    "collapsed": true
   },
   "outputs": [],
   "source": [
    "np.save('trigrams.npy', count2) "
   ]
  },
  {
   "cell_type": "code",
   "execution_count": null,
   "metadata": {
    "collapsed": true
   },
   "outputs": [],
   "source": []
  }
 ],
 "metadata": {
  "kernelspec": {
   "display_name": "Python 3",
   "language": "python",
   "name": "python3"
  },
  "language_info": {
   "codemirror_mode": {
    "name": "ipython",
    "version": 3
   },
   "file_extension": ".py",
   "mimetype": "text/x-python",
   "name": "python",
   "nbconvert_exporter": "python",
   "pygments_lexer": "ipython3",
   "version": "3.6.0"
  }
 },
 "nbformat": 4,
 "nbformat_minor": 0
}
