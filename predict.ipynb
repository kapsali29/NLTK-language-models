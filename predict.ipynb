{
 "cells": [
  {
   "cell_type": "code",
   "execution_count": 1,
   "metadata": {
    "collapsed": true
   },
   "outputs": [],
   "source": [
    "import glob\n",
    "import random"
   ]
  },
  {
   "cell_type": "code",
   "execution_count": 2,
   "metadata": {
    "collapsed": true
   },
   "outputs": [],
   "source": [
    "list_of_txts=glob.glob(\"C:/anaconda/ep/ep*.txt\")"
   ]
  },
  {
   "cell_type": "code",
   "execution_count": 3,
   "metadata": {
    "collapsed": false
   },
   "outputs": [],
   "source": [
    "random.seed(1)\n",
    "s=random.sample(range(0,len(list_of_txts)), round(0.8*(len(list_of_txts))))"
   ]
  },
  {
   "cell_type": "code",
   "execution_count": 4,
   "metadata": {
    "collapsed": true
   },
   "outputs": [],
   "source": [
    " t=list(set(range(0,len(list_of_txts))) - set(s))"
   ]
  },
  {
   "cell_type": "code",
   "execution_count": 5,
   "metadata": {
    "collapsed": true
   },
   "outputs": [],
   "source": [
    "test_txts= [list_of_txts[i] for i in t]"
   ]
  },
  {
   "cell_type": "code",
   "execution_count": 6,
   "metadata": {
    "collapsed": true
   },
   "outputs": [],
   "source": [
    "content=[]\n",
    "for file in test_txts:\n",
    "    fp=open(file, encoding=\"utf8\")\n",
    "    try:\n",
    "        for line in fp:\n",
    "             content.append(line)\n",
    "    finally:\n",
    "        fp.close()"
   ]
  },
  {
   "cell_type": "code",
   "execution_count": 7,
   "metadata": {
    "collapsed": true
   },
   "outputs": [],
   "source": [
    "import re\n",
    "\n",
    "def cleanhtml(raw_html):\n",
    "    cleanr = re.compile('<.*?>')\n",
    "    cleantext = re.sub(cleanr, '', raw_html)\n",
    "    return cleantext"
   ]
  },
  {
   "cell_type": "code",
   "execution_count": 8,
   "metadata": {
    "collapsed": false
   },
   "outputs": [],
   "source": [
    "no_html_content=[]\n",
    "for s in content:\n",
    "     no_html_content.append(cleanhtml(s))"
   ]
  },
  {
   "cell_type": "code",
   "execution_count": 9,
   "metadata": {
    "collapsed": true
   },
   "outputs": [],
   "source": [
    "content=[]\n",
    "for s in no_html_content:\n",
    "    if s!='\\n':\n",
    "        content.append(s)"
   ]
  },
  {
   "cell_type": "code",
   "execution_count": 10,
   "metadata": {
    "collapsed": true
   },
   "outputs": [],
   "source": [
    "content=[s.strip('\\n') for s in content]"
   ]
  },
  {
   "cell_type": "code",
   "execution_count": 11,
   "metadata": {
    "collapsed": true
   },
   "outputs": [],
   "source": [
    "del no_html_content"
   ]
  },
  {
   "cell_type": "code",
   "execution_count": 12,
   "metadata": {
    "collapsed": true
   },
   "outputs": [],
   "source": [
    "from nltk.tokenize import RegexpTokenizer\n",
    "tokenizer = RegexpTokenizer(r'\\w+')"
   ]
  },
  {
   "cell_type": "code",
   "execution_count": 13,
   "metadata": {
    "collapsed": false
   },
   "outputs": [],
   "source": [
    "tunigrams=[]\n",
    "for s in content:\n",
    "    tunigrams+=tokenizer.tokenize(s)"
   ]
  },
  {
   "cell_type": "code",
   "execution_count": 14,
   "metadata": {
    "collapsed": true
   },
   "outputs": [],
   "source": [
    "tunigrams=[x for x in map(str.lower,tunigrams)]"
   ]
  },
  {
   "cell_type": "code",
   "execution_count": 18,
   "metadata": {
    "collapsed": true
   },
   "outputs": [],
   "source": [
    "from nltk.util import ngrams\n",
    "tbigrams = [ gram for gram in ngrams(tunigrams, 2) ]"
   ]
  },
  {
   "cell_type": "code",
   "execution_count": 84,
   "metadata": {
    "collapsed": false
   },
   "outputs": [],
   "source": [
    "import numpy as np\n",
    "count = np.load('unigrams.npy').item()"
   ]
  },
  {
   "cell_type": "code",
   "execution_count": 85,
   "metadata": {
    "collapsed": true
   },
   "outputs": [],
   "source": [
    "count1 = np.load('bigrams.npy').item()"
   ]
  },
  {
   "cell_type": "code",
   "execution_count": 86,
   "metadata": {
    "collapsed": false
   },
   "outputs": [],
   "source": [
    "count2= np.load('trigrams.npy').item()"
   ]
  },
  {
   "cell_type": "code",
   "execution_count": 30,
   "metadata": {
    "collapsed": true
   },
   "outputs": [],
   "source": [
    "def trimodel(tup):\n",
    "    trikeys,bikeys,unikeys=count2.keys(),count1.keys(),count.keys()\n",
    "    if tup[0:2] in bikeys:\n",
    "        if tup in trikeys:\n",
    "             p=(count2[tup]+1)/(count1[tup[0:2]]+len(count))\n",
    "        else :\n",
    "             p=1/(count1[tup[0:2]]+len(count))\n",
    "    else : \n",
    "        if tup[1:] in bikeys:\n",
    "             p=0.4*count1[tup[1:]]/count[tup[1]]\n",
    "        else:\n",
    "            if tup[2] in unikeys:\n",
    "                 p=0.4*count[tup[2]]/sum(count.values())\n",
    "            else :\n",
    "                 p=10**(-15)\n",
    "    return p     "
   ]
  },
  {
   "cell_type": "code",
   "execution_count": 31,
   "metadata": {
    "collapsed": true
   },
   "outputs": [],
   "source": [
    "def bimodel(tup):\n",
    "    bikeys,unikeys=count1.keys(),count.keys()\n",
    "    if tup[0] in unikeys:\n",
    "        if tup in bikeys:\n",
    "             p=(count1[tup]+1)/(count[tup[0]]+len(count))\n",
    "        else :\n",
    "             p=1/(count[tup[0]]+len(count))\n",
    "    else : \n",
    "        if tup[1] in unikeys:\n",
    "            p=0.4*(count[tup[1]]/sum(count.values()))\n",
    "        else: \n",
    "            p=10**(-15)\n",
    "    return p "
   ]
  },
  {
   "cell_type": "code",
   "execution_count": 88,
   "metadata": {
    "collapsed": false
   },
   "outputs": [],
   "source": [
    "from collections import Counter\n",
    "import operator\n",
    "def predict_next_word(test_word):\n",
    "    prev_word=[key for key in count1.keys() if key[0]==test_word ]\n",
    "    prob_per_next_word={word[1]:bimodel(word) for word in prev_word}\n",
    "    if len(prob_per_next_word)>0:\n",
    "            most_prob_words=dict(Counter(prob_per_next_word).most_common(3))\n",
    "            most_prob_words = sorted(most_prob_words.items(), key=operator.itemgetter(1),reverse=True)\n",
    "            return most_prob_words         \n",
    "    else: \n",
    "            next_word=''\n",
    "            prob='unknown'\n",
    "            return next_word+' '+str(prob)"
   ]
  },
  {
   "cell_type": "code",
   "execution_count": 89,
   "metadata": {
    "collapsed": true
   },
   "outputs": [],
   "source": [
    "def predict_next_word1(test_bi):\n",
    "    prev_word=[key for key in count2.keys() if key[0:2]==test_bi ]\n",
    "    prob_per_next_word={tri[2]:trimodel(tri) for tri in prev_word}\n",
    "    if len(prob_per_next_word)>0:\n",
    "            most_prob_words=dict(Counter(prob_per_next_word).most_common(3))\n",
    "            most_prob_words = sorted(most_prob_words.items(), key=operator.itemgetter(1),reverse=True)\n",
    "            return most_prob_words \n",
    "    else:\n",
    "        next_word=''\n",
    "        prob='unknown'\n",
    "        return next_word+' '+str(prob)"
   ]
  },
  {
   "cell_type": "code",
   "execution_count": 90,
   "metadata": {
    "collapsed": false
   },
   "outputs": [
    {
     "data": {
      "text/plain": [
       "[('union', 0.283920344522576),\n",
       " ('parliament', 0.1315216982968536),\n",
       " ('commission', 0.03497136378073228)]"
      ]
     },
     "execution_count": 90,
     "metadata": {},
     "output_type": "execute_result"
    }
   ],
   "source": [
    "predict_next_word('european')"
   ]
  },
  {
   "cell_type": "code",
   "execution_count": 91,
   "metadata": {
    "collapsed": false
   },
   "outputs": [
    {
     "data": {
      "text/plain": [
       "[('of', 0.05232179920076825),\n",
       " ('and', 0.0041820265791022585),\n",
       " ('to', 0.004089092655122208)]"
      ]
     },
     "execution_count": 91,
     "metadata": {},
     "output_type": "execute_result"
    }
   ],
   "source": [
    "predict_next_word('approval')"
   ]
  },
  {
   "cell_type": "code",
   "execution_count": 92,
   "metadata": {
    "collapsed": false
   },
   "outputs": [
    {
     "data": {
      "text/plain": [
       "[('services', 0.004733887874484344),\n",
       " ('and', 0.00375329681476973),\n",
       " ('of', 0.0010144045445323595)]"
      ]
     },
     "execution_count": 92,
     "metadata": {},
     "output_type": "execute_result"
    }
   ],
   "source": [
    "predict_next_word('intelligence')"
   ]
  },
  {
   "cell_type": "code",
   "execution_count": 77,
   "metadata": {
    "collapsed": false
   },
   "outputs": [
    {
     "data": {
      "text/plain": [
       "[('funds', 0.010978334790634411),\n",
       " ('schemes', 0.007545581139285599),\n",
       " ('systems', 0.006314971339745458)]"
      ]
     },
     "execution_count": 77,
     "metadata": {},
     "output_type": "execute_result"
    }
   ],
   "source": [
    "predict_next_word('pension')"
   ]
  },
  {
   "cell_type": "code",
   "execution_count": 93,
   "metadata": {
    "collapsed": false
   },
   "outputs": [
    {
     "data": {
      "text/plain": [
       "[('and', 0.0017497512608501732),\n",
       " ('in', 0.0009263389028030329),\n",
       " ('are', 0.0008577212062991045)]"
      ]
     },
     "execution_count": 93,
     "metadata": {},
     "output_type": "execute_result"
    }
   ],
   "source": [
    "predict_next_word1(('pension','funds'))"
   ]
  },
  {
   "cell_type": "code",
   "execution_count": 94,
   "metadata": {
    "collapsed": false
   },
   "outputs": [
    {
     "data": {
      "text/plain": [
       "[('for', 0.010800627943485087),\n",
       " ('that', 0.01010989010989011),\n",
       " ('to', 0.009419152276295133)]"
      ]
     },
     "execution_count": 94,
     "metadata": {},
     "output_type": "execute_result"
    }
   ],
   "source": [
    "predict_next_word1(('extremely','important'))"
   ]
  },
  {
   "cell_type": "code",
   "execution_count": 103,
   "metadata": {
    "collapsed": false
   },
   "outputs": [
    {
     "data": {
      "text/plain": [
       "[('the', 0.05144238517324738),\n",
       " ('europe', 0.006865431103948429),\n",
       " ('us', 0.0027397260273972603)]"
      ]
     },
     "execution_count": 103,
     "metadata": {},
     "output_type": "execute_result"
    }
   ],
   "source": [
    "predict_next_word1(('rest', 'of'))"
   ]
  },
  {
   "cell_type": "code",
   "execution_count": 107,
   "metadata": {
    "collapsed": false
   },
   "outputs": [
    {
     "data": {
      "text/plain": [
       "[('not', 0.011117374420643868),\n",
       " ('aware', 0.0029750720280596267),\n",
       " ('also', 0.0028498058374044847)]"
      ]
     },
     "execution_count": 107,
     "metadata": {},
     "output_type": "execute_result"
    }
   ],
   "source": [
    "predict_next_word1(('council', 'is'))"
   ]
  },
  {
   "cell_type": "code",
   "execution_count": null,
   "metadata": {
    "collapsed": true
   },
   "outputs": [],
   "source": []
  }
 ],
 "metadata": {
  "kernelspec": {
   "display_name": "Python 3",
   "language": "python",
   "name": "python3"
  },
  "language_info": {
   "codemirror_mode": {
    "name": "ipython",
    "version": 3
   },
   "file_extension": ".py",
   "mimetype": "text/x-python",
   "name": "python",
   "nbconvert_exporter": "python",
   "pygments_lexer": "ipython3",
   "version": "3.6.0"
  }
 },
 "nbformat": 4,
 "nbformat_minor": 2
}
